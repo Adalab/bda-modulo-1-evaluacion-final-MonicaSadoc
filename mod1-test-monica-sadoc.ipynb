{
 "cells": [
  {
   "cell_type": "markdown",
   "metadata": {},
   "source": [
    "# Definition of functions"
   ]
  },
  {
   "cell_type": "code",
   "execution_count": 66,
   "metadata": {},
   "outputs": [],
   "source": [
    "inventory = [] #inventory = [{'name': 'shirt', 'price': 20, 'stock': 40}, {'name': 'jeans', 'price': 30, 'stock': 30}]\n",
    "customers = [] #customers = {'Customer1' : {'email': 'customer1@email.com', 'purchases': []}, 'Customer2' : {'email': 'customer2@email.com', 'purchases': []}}\n",
    "total_sales = 0.0\n"
   ]
  },
  {
   "cell_type": "code",
   "execution_count": 67,
   "metadata": {},
   "outputs": [],
   "source": [
    "# Esta función agrega un producto al inventario o actualiza su cantidad si ya existe. Debe recibir el nombre, precio y cantidad del producto como parámetros:\n",
    "    # - Itera a través del inventario y compara los nombres de los productos con el nombre proporcionado.\n",
    "    # - Si el producto ya existe, actualiza la cantidad.\n",
    "    # - Si no existe, agrega un nuevo producto al inventario.\n",
    "\n",
    "def add_product(name, price, stock):\n",
    "\n",
    "    updated = False\n",
    "\n",
    "    for i in inventory:\n",
    "\n",
    "        if name.lower() in i.values():\n",
    "            updated = True\n",
    "            i['stock'] += stock\n",
    "            updated_stock = i['stock']\n",
    "            print(f\"{name} has been successfully updated in the inventory. Current stock: {updated_stock}\")\n",
    "            break\n",
    "        \n",
    "    if updated == False:     \n",
    "        inventory.append({'name': name.lower(), 'price': price, 'stock': stock})\n",
    "        print(f\"{name} has been successfully added for the first time to the inventory. Current stock: {stock}\")\n",
    "    \n",
    "    "
   ]
  },
  {
   "cell_type": "code",
   "execution_count": null,
   "metadata": {},
   "outputs": [],
   "source": [
    "#ver_inventario(): Muestra el inventario de productos con sus detalles.\n",
    "# - Utiliza un bucle `for` para recorrer el inventario.\n",
    "# - Imprime los detalles (nombre, precio, cantidad) de cada producto.\n",
    "# - Debería verse:\n",
    "    #Nombre: Camisa, Precio: $20, Cantidad: 50\n",
    "    #Nombre: Pantalón, Precio: $30, Cantidad: 30\n",
    "    # Nombre: Zapatos, Precio: $50, Cantidad: 40\n",
    "    # Nombre: Camisa, Precio: $20, Cantidad: 50\n",
    "\n",
    "\n",
    "def print_inventory(inventory):\n",
    "\n",
    "    for i in inventory:\n",
    "\n",
    "        printed_inventory = list(i.values())\n",
    "\n",
    "        print(f\"Name: {printed_inventory[0]}, Price: {printed_inventory[1]}€, Stock: {printed_inventory[2]} items\")\n"
   ]
  },
  {
   "cell_type": "code",
   "execution_count": 73,
   "metadata": {},
   "outputs": [],
   "source": [
    " # buscar_producto(nombre): Busca un producto en el inventario por nombre\n",
    " # y muestra sus detalles si se encuentra. Debe recibir el nombre del producto\n",
    " # como parámetro.\n",
    " # - Utiliza un bucle `for` para recorrer el inventario.\n",
    " # - Compara los nombres de los productos con el nombre proporcionado.\n",
    " # - Si se encuentra el producto, imprime sus detalles.\n",
    " # - Debe mostrar:Nombre: Camisa, Precio: $20, Cantidad: 40\n",
    "\n",
    "def search_product(name):\n",
    "\n",
    "    for i in inventory:\n",
    "\n",
    "        found = False\n",
    "\n",
    "        if name == i['name']:\n",
    "            found = True\n",
    "            found_product = list(i.values())\n",
    "            print(f\"Name: {found_product[0]}, Price: {found_product[1]}€, Stock: {found_product[2]} items\")\n",
    "            break\n",
    "\n",
    "    \n",
    "    if found == False:\n",
    "        print(f\"{name} was not found in the inventory\")"
   ]
  },
  {
   "cell_type": "code",
   "execution_count": 74,
   "metadata": {},
   "outputs": [],
   "source": [
    "# actualizar_stock(nombre, cantidad): Actualiza el stock de un producto\n",
    "# en el inventario. Debe recibir el nombre del producto y la cantidad a\n",
    "# agregar o quitar como parámetros.\n",
    "# - Utiliza un bucle `for` para recorrer el inventario.\n",
    "# - Busca el producto por nombre.\n",
    "\n",
    "def update_stock(name, stock):\n",
    "\n",
    "    found = False\n",
    "\n",
    "    for i in inventory:\n",
    "\n",
    "        if name in i.values():\n",
    "            found = True\n",
    "            i['stock'] += stock\n",
    "            updated_stock = i['stock']\n",
    "            print(f\"{name}'s stock has been updated Current stock: {updated_stock}\")\n",
    "            break\n",
    "\n",
    "    if found == False:\n",
    "        print(f\"{name} was not found\")"
   ]
  },
  {
   "cell_type": "code",
   "execution_count": 75,
   "metadata": {},
   "outputs": [],
   "source": [
    "# eliminar_producto(nombre)`: Elimina un producto del inventario por\n",
    "# nombre. Debe recibir el nombre del producto como parámetro.\n",
    "# - Utiliza un bucle `for` para recorrer el inventario.\n",
    "# - Busca el producto por nombre.\n",
    "# - Elimina el producto del inventario si existe.\n",
    "# - Si el producto no esta en el inventario muestra un mensaje indicándolo. \n",
    "\n",
    "def remove_product(name):\n",
    "\n",
    "    found = False\n",
    "\n",
    "    for i in inventory:\n",
    "        if name in i.values():\n",
    "            found = True\n",
    "            inventory.remove(i)\n",
    "            print(f\"{name} has been removed from the inventory\")\n",
    "            break\n",
    "        \n",
    "    if found == False:\n",
    "        print(f\"{name} was not found in the inventory\")\n",
    "        "
   ]
  },
  {
   "cell_type": "code",
   "execution_count": null,
   "metadata": {},
   "outputs": [],
   "source": [
    "# Calcular_valor_inventario(): Calcula y muestra el valor total del inventario.\n",
    "    # - Utiliza un bucle for para calcular el valor total del inventario.\n",
    "    # - Itera a través del inventario y suma el valor de cada producto (precio x cantidad). Es decir, calcula el valor total del inventario.\n",
    "# Ejemplo:\n",
    "    # si tenemos 5 camisas que valen 5 euros y 10 calcetines que valen 1 euro\n",
    "    # este método te tiene que devolver: 35 euros\n",
    "    # valor_camisas = 5 * 5\n",
    "    # valor_calcetines = 10 * 1\n",
    "    # valor_camisas + valor_calcetines = 35\n",
    "\n",
    "def inventory_value(inventory):\n",
    "\n",
    "    total_value = 0\n",
    "\n",
    "    for i in inventory:\n",
    "        i_value = i['price'] * i['stock']\n",
    "        total_value += i_value\n",
    "    \n",
    "    print(f\"Total value of inventory: {total_value}€\")\n",
    "    "
   ]
  },
  {
   "cell_type": "code",
   "execution_count": 81,
   "metadata": {},
   "outputs": [],
   "source": [
    "# realizar_compra(): Permite a un cliente realizar una compra \n",
    "# seleccionando productos del inventario. Debe interactuar con el cliente para\n",
    "# seleccionar productos y calcular el costo total de la compra.\n",
    "    # - Utiliza un bucle `while` para permitir al cliente realizar múltiples compras.\n",
    "    # - Muestra el inventario y solicita al cliente ingresar el nombre del producto que desea comprar.\n",
    "    # - Registra los productos seleccionados en un carrito y actualiza el inventario.\n",
    "\n",
    "def buy_product():\n",
    "\n",
    "    cost = 0\n",
    "    buy_product = True\n",
    "    \n",
    "\n",
    "    print('''Welcome to Mónica's e-commerce! Our current inventory is: ''')\n",
    "    \n",
    "    while buy_product == True:\n",
    "\n",
    "        print_inventory(inventory)\n",
    "        choice = input(\"Please, select which item would you like to buy\")\n",
    "\n",
    "        for i in inventory:\n",
    "\n",
    "            found = False\n",
    "\n",
    "            if choice in i.values():\n",
    "                found = True\n",
    "                found_product = list(i.values())\n",
    "                choice_number = int(input(f\"How many {choice} would you like?\"))\n",
    "                print(f\"Ok. {choice_number} {choice} added to the cart.\")\n",
    "                cost += found_product[1] * choice_number\n",
    "                i['stock'] -= choice_number\n",
    "                break\n",
    "\n",
    "        if found == False:\n",
    "            print(f\"{choice} was not found in the inventory\")\n",
    "            break\n",
    "\n",
    "        buy_more = int(input(\"Would you like to add something more to you cart? Press (1) for yes and (2) for no\"))\n",
    "\n",
    "        if buy_more == 2:\n",
    "            buy_product = False\n",
    "            print(f\"Thank you for your purchase. Total cost: {cost}€\")\n",
    "        "
   ]
  },
  {
   "cell_type": "code",
   "execution_count": 83,
   "metadata": {},
   "outputs": [],
   "source": [
    "# procesar_pago(): Procesa el pago de una compra, calcula el cambio y muestra un mensaje de confirmación.\n",
    "# - Utiliza un bloque `try...except` para manejar excepciones.\n",
    "# - Solicita al cliente ingresar la cantidad total y la cantidad de pago usando un input.\n",
    "# - Calcula el cambio y muestra un mensaje de pago exitoso o un error en caso de monto insuficiente.\n",
    "\n",
    "def process_payment():\n",
    "\n",
    "    try:\n",
    "        cost = float(input(\"How much money did the purchase cost?\"))\n",
    "        payment = float(input(\"Please, insert here the amount of money requested to pay: \"))\n",
    "\n",
    "        if (cost < payment) and (cost > 0):\n",
    "            change = payment - cost\n",
    "            print(f\"Payment complete! Your change is: {change}\")\n",
    "\n",
    "        elif cost < 0:\n",
    "            print(f\"The cost must be a positive number. Please try again.\")\n",
    "\n",
    "        else:\n",
    "            print(f\"The payment must be more than {cost}. Please try again.\")\n",
    "\n",
    "    except ValueError:\n",
    "        print(f\"Wrong value. Please, type the amount like the following example: 50.7\")\n"
   ]
  },
  {
   "cell_type": "code",
   "execution_count": 84,
   "metadata": {},
   "outputs": [],
   "source": [
    "# agregar_cliente(nombre, email)`: Agrega un nuevo cliente al registro de clientes. \n",
    "# Debe recibir el nombre y el correo electrónico del cliente como parámetros.\n",
    "# - Agrega un cliente al diccionario de clientes con su nombre y correo electrónico.\n",
    "\n",
    "#customers = [] #customers = {'Customer1' : {'email': 'customer1@email.com', 'purchases': []}, 'Customer2' : {'email': 'customer2@email.com', 'purchases': []}}\n",
    "\n",
    "\n",
    "def new_customer(name, email):\n",
    "\n",
    "    customer_number = 'Customer' + str(len(customers) + 1)\n",
    "    new_customer = {customer_number: {'name': name, 'email': email, 'purchases': []}}\n",
    "    customers.append(new_customer)\n",
    "    print(f\"{customer_number} added to the list\")\n",
    "    "
   ]
  },
  {
   "cell_type": "markdown",
   "metadata": {},
   "source": [
    "---------------------------------------------------------------------------------"
   ]
  },
  {
   "cell_type": "markdown",
   "metadata": {},
   "source": [
    "# Add product"
   ]
  },
  {
   "cell_type": "code",
   "execution_count": 72,
   "metadata": {},
   "outputs": [
    {
     "name": "stdout",
     "output_type": "stream",
     "text": [
      "jeans has been successfully updated in the inventory. Current stock: 120\n"
     ]
    },
    {
     "data": {
      "text/plain": [
       "[{'name': 'jeans', 'price': 40.0, 'stock': 120},\n",
       " {'name': 'shirt', 'price': 20.0, 'stock': 30},\n",
       " {'name': 'skirt', 'price': 30.0, 'stock': 10}]"
      ]
     },
     "execution_count": 72,
     "metadata": {},
     "output_type": "execute_result"
    }
   ],
   "source": [
    "name = 'jeans'\n",
    "price = 40.0\n",
    "stock = 60\n",
    "\n",
    "add_product(name, price, stock)\n",
    "\n",
    "inventory"
   ]
  },
  {
   "cell_type": "code",
   "execution_count": 69,
   "metadata": {},
   "outputs": [
    {
     "name": "stdout",
     "output_type": "stream",
     "text": [
      "shirt has been successfully added for the first time to the inventory. Current stock: 30\n"
     ]
    },
    {
     "data": {
      "text/plain": [
       "[{'name': 'jeans', 'price': 40.0, 'stock': 60},\n",
       " {'name': 'shirt', 'price': 20.0, 'stock': 30}]"
      ]
     },
     "execution_count": 69,
     "metadata": {},
     "output_type": "execute_result"
    }
   ],
   "source": [
    "name = 'shirt'\n",
    "price = 20.0\n",
    "stock = 30\n",
    "\n",
    "add_product(name, price, stock)\n",
    "\n",
    "inventory"
   ]
  },
  {
   "cell_type": "code",
   "execution_count": 70,
   "metadata": {},
   "outputs": [
    {
     "name": "stdout",
     "output_type": "stream",
     "text": [
      "skirt has been successfully added for the first time to the inventory. Current stock: 10\n"
     ]
    }
   ],
   "source": [
    "name = 'skirt'\n",
    "price = 30.0\n",
    "stock = 10\n",
    "\n",
    "add_product(name, price, stock)"
   ]
  },
  {
   "cell_type": "markdown",
   "metadata": {},
   "source": [
    "# Print inventory"
   ]
  },
  {
   "cell_type": "code",
   "execution_count": 71,
   "metadata": {},
   "outputs": [
    {
     "name": "stdout",
     "output_type": "stream",
     "text": [
      "Name: jeans, Price: 40.0€, Stock: 60 items\n",
      "Name: shirt, Price: 20.0€, Stock: 30 items\n",
      "Name: skirt, Price: 30.0€, Stock: 10 items\n"
     ]
    }
   ],
   "source": [
    "print_inventory(inventory)"
   ]
  },
  {
   "cell_type": "markdown",
   "metadata": {},
   "source": [
    "# Search product"
   ]
  },
  {
   "cell_type": "code",
   "execution_count": 76,
   "metadata": {},
   "outputs": [
    {
     "name": "stdout",
     "output_type": "stream",
     "text": [
      "Name: jeans, Price: 40.0€, Stock: 120 items\n"
     ]
    }
   ],
   "source": [
    "name = 'jeans'\n",
    "\n",
    "search_product(name)"
   ]
  },
  {
   "cell_type": "code",
   "execution_count": 77,
   "metadata": {},
   "outputs": [
    {
     "name": "stdout",
     "output_type": "stream",
     "text": [
      "boots was not found in the inventory\n"
     ]
    }
   ],
   "source": [
    "name = 'boots'\n",
    "\n",
    "search_product(name)"
   ]
  },
  {
   "cell_type": "markdown",
   "metadata": {},
   "source": [
    "# Update stock"
   ]
  },
  {
   "cell_type": "code",
   "execution_count": null,
   "metadata": {},
   "outputs": [],
   "source": [
    "name = 'shirt'\n",
    "stock = 50\n",
    "\n",
    "update_stock(name, stock)"
   ]
  },
  {
   "cell_type": "code",
   "execution_count": null,
   "metadata": {},
   "outputs": [],
   "source": [
    "name = 'coat'\n",
    "stock = 100\n",
    "\n",
    "update_stock(name, stock)"
   ]
  },
  {
   "cell_type": "markdown",
   "metadata": {},
   "source": [
    "# Remove product"
   ]
  },
  {
   "cell_type": "code",
   "execution_count": null,
   "metadata": {},
   "outputs": [
    {
     "name": "stdout",
     "output_type": "stream",
     "text": [
      "jeans was not found in the inventory\n"
     ]
    },
    {
     "data": {
      "text/plain": [
       "[{'name': 'shirt', 'price': 20.0, 'stock': 30},\n",
       " {'name': 'skirt', 'price': 30.0, 'stock': 10}]"
      ]
     },
     "execution_count": 79,
     "metadata": {},
     "output_type": "execute_result"
    }
   ],
   "source": [
    "name = 'jeans'\n",
    "\n",
    "remove_product(name)"
   ]
  },
  {
   "cell_type": "code",
   "execution_count": null,
   "metadata": {},
   "outputs": [],
   "source": [
    "print_inventory(inventory)"
   ]
  },
  {
   "cell_type": "code",
   "execution_count": null,
   "metadata": {},
   "outputs": [],
   "source": [
    "remove_product('socks')"
   ]
  },
  {
   "cell_type": "markdown",
   "metadata": {},
   "source": [
    "# Get inventory value"
   ]
  },
  {
   "cell_type": "code",
   "execution_count": null,
   "metadata": {},
   "outputs": [],
   "source": [
    "#First I am going to add some products to the inventory so the value is higher\n",
    "\n",
    "add_product('dress', 50.0, 10)\n",
    "add_product('sneakers', 40.0, 20)"
   ]
  },
  {
   "cell_type": "code",
   "execution_count": null,
   "metadata": {},
   "outputs": [],
   "source": [
    "inventory_value(inventory)"
   ]
  },
  {
   "cell_type": "markdown",
   "metadata": {},
   "source": [
    "# Buy product"
   ]
  },
  {
   "cell_type": "code",
   "execution_count": 82,
   "metadata": {},
   "outputs": [
    {
     "name": "stdout",
     "output_type": "stream",
     "text": [
      "Welcome to Mónica's e-commerce! Our current inventory is: \n",
      "Name: shirt, Price: 20.0€, Stock: 30 items\n",
      "Name: skirt, Price: 30.0€, Stock: 10 items\n",
      "Ok. 2 shirt added to the cart.\n",
      "Name: shirt, Price: 20.0€, Stock: 28 items\n",
      "Name: skirt, Price: 30.0€, Stock: 10 items\n",
      "Ok. 3 skirt added to the cart.\n",
      "Thank you for your purchase. Total cost: 130.0€\n"
     ]
    }
   ],
   "source": [
    "buy_product()\n",
    "\n"
   ]
  },
  {
   "cell_type": "markdown",
   "metadata": {},
   "source": [
    "# Payment process"
   ]
  },
  {
   "cell_type": "code",
   "execution_count": 87,
   "metadata": {},
   "outputs": [
    {
     "name": "stdout",
     "output_type": "stream",
     "text": [
      "Payment complete! Your change is: 20.0\n"
     ]
    }
   ],
   "source": [
    "process_payment()"
   ]
  },
  {
   "cell_type": "markdown",
   "metadata": {},
   "source": [
    "# Add customer"
   ]
  },
  {
   "cell_type": "code",
   "execution_count": null,
   "metadata": {},
   "outputs": [],
   "source": [
    "new_customer('Juan Rodríguez', 'juan@gmail.com')"
   ]
  },
  {
   "cell_type": "code",
   "execution_count": null,
   "metadata": {},
   "outputs": [],
   "source": [
    "#`registrar_compra(nombre_cliente, carrito)`: Registra una compra para un cliente y agrega la compra al historial del\n",
    "# cliente. Debe recibir el nombre del cliente y el carrito de compras como\n",
    "# parámetros.\n",
    " - Busca al cliente en el diccionario de clientes.\n",
    " - Si el cliente no esta en el diccionario de clientes, muestra que no\n",
    "se puede realizar la acción por que el cliente no está en el diccionario.\n",
    " - Calcula el total de la compra y registra la compra, incluyendo los\n",
    "productos y el total.\n",
    " - Ejemplo:\n",
    " ```python\n",
    " carrito_cliente1 = {\"Camisa\": {\"precio\": 20, \"cantidad\": 3}}\n",
    " tienda.registrar_compra(\"Cliente1\", carrito_cliente1)"
   ]
  },
  {
   "cell_type": "code",
   "execution_count": null,
   "metadata": {},
   "outputs": [],
   "source": [
    "def registrar_compra(nombre)"
   ]
  }
 ],
 "metadata": {
  "kernelspec": {
   "display_name": "base",
   "language": "python",
   "name": "python3"
  },
  "language_info": {
   "codemirror_mode": {
    "name": "ipython",
    "version": 3
   },
   "file_extension": ".py",
   "mimetype": "text/x-python",
   "name": "python",
   "nbconvert_exporter": "python",
   "pygments_lexer": "ipython3",
   "version": "3.12.8"
  }
 },
 "nbformat": 4,
 "nbformat_minor": 2
}
